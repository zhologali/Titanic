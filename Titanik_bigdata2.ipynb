{
 "cells": [
  {
   "cell_type": "code",
   "execution_count": null,
   "metadata": {
    "colab": {},
    "colab_type": "code",
    "id": "0JhI4pYJcz2U"
   },
   "outputs": [],
   "source": [
    "# Библиотека для работы с данными\n",
    "import pandas as pd"
   ]
  },
  {
   "cell_type": "code",
   "execution_count": null,
   "metadata": {
    "colab": {},
    "colab_type": "code",
    "id": "nFqz4W-VdCHO"
   },
   "outputs": [],
   "source": [
    "df = pd.read_csv('data.csv')"
   ]
  },
  {
   "cell_type": "code",
   "execution_count": null,
   "metadata": {
    "colab": {
     "base_uri": "https://localhost:8080/",
     "height": 204
    },
    "colab_type": "code",
    "id": "Mj36B5MBdJGX",
    "outputId": "661bc525-d052-469c-8c9f-d275a811938d"
   },
   "outputs": [],
   "source": [
    "df.head()"
   ]
  },
  {
   "cell_type": "code",
   "execution_count": null,
   "metadata": {
    "colab": {},
    "colab_type": "code",
    "id": "LJCdn5TddK7-"
   },
   "outputs": [],
   "source": [
    "# если надо указать свои заголовки и разделитель\n",
    "# data = pd.read_csv('power.csv', names = ['страна', 'год', 'количество', 'категория'], sep = '\\t', header=0)\n",
    "# data.head()"
   ]
  },
  {
   "cell_type": "code",
   "execution_count": null,
   "metadata": {
    "colab": {
     "base_uri": "https://localhost:8080/",
     "height": 34
    },
    "colab_type": "code",
    "id": "BCosKvcwdWLB",
    "outputId": "237c7769-42d3-47e7-ed10-9f469aebf432"
   },
   "outputs": [],
   "source": [
    "# количество строк в датафрейме\n",
    "\n",
    "len(df)"
   ]
  },
  {
   "cell_type": "code",
   "execution_count": null,
   "metadata": {
    "colab": {
     "base_uri": "https://localhost:8080/",
     "height": 34
    },
    "colab_type": "code",
    "id": "EXPP9rYfdXgp",
    "outputId": "3a88b180-0875-4b06-a873-41efb3a2cf99"
   },
   "outputs": [],
   "source": [
    "# или так\n",
    "df.shape"
   ]
  },
  {
   "cell_type": "markdown",
   "metadata": {
    "colab_type": "text",
    "id": "8-j3jZtDdigV"
   },
   "source": [
    "## Основные сведения о датафрейме"
   ]
  },
  {
   "cell_type": "code",
   "execution_count": null,
   "metadata": {
    "colab": {
     "base_uri": "https://localhost:8080/",
     "height": 306
    },
    "colab_type": "code",
    "id": "VW3Hgjm6djWJ",
    "outputId": "4db47e6b-2b63-42ae-fc9b-9f6dd876cb07"
   },
   "outputs": [],
   "source": [
    "df.info()"
   ]
  },
  {
   "cell_type": "code",
   "execution_count": null,
   "metadata": {
    "colab": {
     "base_uri": "https://localhost:8080/",
     "height": 297
    },
    "colab_type": "code",
    "id": "Nlao3Ub2dmjw",
    "outputId": "6d2c6060-ad25-40af-da92-0b0368695a40"
   },
   "outputs": [],
   "source": [
    "# Статистика\n",
    "df.describe()"
   ]
  },
  {
   "cell_type": "code",
   "execution_count": null,
   "metadata": {
    "colab": {
     "base_uri": "https://localhost:8080/",
     "height": 68
    },
    "colab_type": "code",
    "id": "D87aYm8Rdp2e",
    "outputId": "65da2f9d-f70a-4e40-f96d-6bb655862916"
   },
   "outputs": [],
   "source": [
    "# Список колонок\n",
    "df.columns"
   ]
  },
  {
   "cell_type": "code",
   "execution_count": null,
   "metadata": {
    "colab": {
     "base_uri": "https://localhost:8080/",
     "height": 119
    },
    "colab_type": "code",
    "id": "QXHCojnJdtha",
    "outputId": "6227a80d-31f6-4797-dd29-40d7d4b4912b"
   },
   "outputs": [],
   "source": [
    "# Значение в колонке\n",
    "df['PassengerId'].head()"
   ]
  },
  {
   "cell_type": "code",
   "execution_count": null,
   "metadata": {
    "colab": {},
    "colab_type": "code",
    "id": "0YZrYwXIsyam"
   },
   "outputs": [],
   "source": [
    "## Метод value_counts позволяет получить количество строк для каждого значения\n",
    "## примените его к полю survived"
   ]
  },
  {
   "cell_type": "code",
   "execution_count": null,
   "metadata": {
    "colab": {},
    "colab_type": "code",
    "id": "TdHpjg_Cs8Ce"
   },
   "outputs": [],
   "source": [
    "df['Survived'].value_counts()"
   ]
  },
  {
   "cell_type": "code",
   "execution_count": null,
   "metadata": {
    "colab": {},
    "colab_type": "code",
    "id": "iYr2y24htAWs"
   },
   "outputs": [],
   "source": [
    "## Метод unique позволяет получить список значений (уникальных) для столбца\n",
    "## примените его к Embarked"
   ]
  },
  {
   "cell_type": "code",
   "execution_count": null,
   "metadata": {
    "colab": {},
    "colab_type": "code",
    "id": "IMTqTzBvtHrc"
   },
   "outputs": [],
   "source": []
  },
  {
   "cell_type": "code",
   "execution_count": null,
   "metadata": {
    "colab": {
     "base_uri": "https://localhost:8080/",
     "height": 204
    },
    "colab_type": "code",
    "id": "EL7KHpEwd3Yg",
    "outputId": "8b0171d6-47e6-437f-df8a-0a0ae72b228b"
   },
   "outputs": [],
   "source": [
    "# Фильтрация наборов колонок\n",
    "df[['Pclass', 'Survived']].head()"
   ]
  },
  {
   "cell_type": "code",
   "execution_count": null,
   "metadata": {
    "colab": {
     "base_uri": "https://localhost:8080/",
     "height": 173
    },
    "colab_type": "code",
    "id": "LZ_kBkf_eXEf",
    "outputId": "b3159964-37bb-4ca1-871a-cd4099c5bafc"
   },
   "outputs": [],
   "source": [
    "# Сводные таблицы\n",
    "df[['Pclass', 'Survived']].groupby(['Pclass']).mean().sort_values(by='Survived', ascending=False)"
   ]
  },
  {
   "cell_type": "code",
   "execution_count": null,
   "metadata": {
    "colab": {},
    "colab_type": "code",
    "id": "a-Hw6EC7eg3a"
   },
   "outputs": [],
   "source": [
    "## Посчитайте среднюю виживаемост в зависимости от пола\n",
    "##"
   ]
  },
  {
   "cell_type": "code",
   "execution_count": null,
   "metadata": {
    "colab": {},
    "colab_type": "code",
    "id": "o5oWbn0ZtSau"
   },
   "outputs": [],
   "source": [
    "df[['Sex', 'Survived']].groupby(['Sex']).mean().sort_values(by='Survived', ascending=False)"
   ]
  },
  {
   "cell_type": "markdown",
   "metadata": {
    "colab_type": "text",
    "id": "_GT1fmSkes1v"
   },
   "source": [
    "## Отображение данных"
   ]
  },
  {
   "cell_type": "code",
   "execution_count": null,
   "metadata": {
    "colab": {},
    "colab_type": "code",
    "id": "gidw-pDKek5v"
   },
   "outputs": [],
   "source": [
    "import matplotlib.pyplot as plt"
   ]
  },
  {
   "cell_type": "code",
   "execution_count": null,
   "metadata": {
    "colab": {
     "base_uri": "https://localhost:8080/",
     "height": 286
    },
    "colab_type": "code",
    "id": "LdQBp16TewrB",
    "outputId": "2083cfc5-b351-486a-94d5-4149fcdb4a3d"
   },
   "outputs": [],
   "source": [
    "df['Age'].hist()"
   ]
  },
  {
   "cell_type": "code",
   "execution_count": null,
   "metadata": {
    "colab": {
     "base_uri": "https://localhost:8080/",
     "height": 286
    },
    "colab_type": "code",
    "id": "A3tewIGzezqo",
    "outputId": "9a9423f6-5c26-4ed6-83f4-dfc43cc9dd9b"
   },
   "outputs": [],
   "source": [
    "df['Pclass'].hist()"
   ]
  },
  {
   "cell_type": "markdown",
   "metadata": {
    "colab_type": "text",
    "id": "Ohwy5ViTfC1l"
   },
   "source": [
    "## Подготовим данные для машинного обучения"
   ]
  },
  {
   "cell_type": "code",
   "execution_count": null,
   "metadata": {
    "colab": {
     "base_uri": "https://localhost:8080/",
     "height": 204
    },
    "colab_type": "code",
    "id": "rvNb97pqe2az",
    "outputId": "e7527408-c8af-4672-b818-a1fc02d4cc77"
   },
   "outputs": [],
   "source": [
    "df.head()"
   ]
  },
  {
   "cell_type": "markdown",
   "metadata": {
    "colab_type": "text",
    "id": "lXydyyR5fHm_"
   },
   "source": [
    "Удалим колоноки, которые нам кажутся мало информативными\n",
    "* Имя\n",
    "* Билет\n",
    "* Каюта\n",
    "* Информацию по родственникам"
   ]
  },
  {
   "cell_type": "code",
   "execution_count": null,
   "metadata": {
    "colab": {
     "base_uri": "https://localhost:8080/",
     "height": 68
    },
    "colab_type": "code",
    "id": "NdJdj58wfFTG",
    "outputId": "59a3f498-739a-4a2b-ac43-ede4ae8f9f6d"
   },
   "outputs": [],
   "source": [
    "df.columns"
   ]
  },
  {
   "cell_type": "code",
   "execution_count": null,
   "metadata": {
    "colab": {},
    "colab_type": "code",
    "id": "q0y7ECEitX8u"
   },
   "outputs": [],
   "source": [
    "## Постройте датафрейм df_filtered без этих колонок (Name, SibSp, Parch, Ticket, Cabin)"
   ]
  },
  {
   "cell_type": "code",
   "execution_count": null,
   "metadata": {
    "colab": {},
    "colab_type": "code",
    "id": "9OeFvQnYfXqh"
   },
   "outputs": [],
   "source": []
  },
  {
   "cell_type": "code",
   "execution_count": null,
   "metadata": {
    "colab": {
     "base_uri": "https://localhost:8080/",
     "height": 204
    },
    "colab_type": "code",
    "id": "ZOQKiOGhfuBW",
    "outputId": "a55b8405-25d8-48b6-b39b-03e5f96bd52a"
   },
   "outputs": [],
   "source": [
    "df_filtered.head()"
   ]
  },
  {
   "cell_type": "code",
   "execution_count": null,
   "metadata": {
    "colab": {
     "base_uri": "https://localhost:8080/",
     "height": 221
    },
    "colab_type": "code",
    "id": "4UEyuhfNf0Tc",
    "outputId": "6c34be85-c289-4945-c2dd-9b4862d583fb"
   },
   "outputs": [],
   "source": [
    "df_filtered.info()"
   ]
  },
  {
   "cell_type": "markdown",
   "metadata": {
    "colab_type": "text",
    "id": "Lqs3JkNFgC9F"
   },
   "source": [
    "## Видим, что есть пустые значения, попробуем с ними разобраться"
   ]
  },
  {
   "cell_type": "code",
   "execution_count": null,
   "metadata": {
    "colab": {
     "base_uri": "https://localhost:8080/",
     "height": 119
    },
    "colab_type": "code",
    "id": "7QYnTyPXf4n2",
    "outputId": "1ad1f23e-0f25-4b20-a513-b4496ab1d878"
   },
   "outputs": [],
   "source": [
    "df_filtered['Age'].isna().head()"
   ]
  },
  {
   "cell_type": "code",
   "execution_count": null,
   "metadata": {
    "colab": {
     "base_uri": "https://localhost:8080/",
     "height": 204
    },
    "colab_type": "code",
    "id": "a2pWLbiMgHFq",
    "outputId": "af714894-2b8d-42d1-ed75-5cf8822e9eb7"
   },
   "outputs": [],
   "source": [
    "df_filtered[df_filtered['Age'].isna()].head()"
   ]
  },
  {
   "cell_type": "markdown",
   "metadata": {
    "colab_type": "text",
    "id": "nXINSi1NgSE-"
   },
   "source": [
    "## Посчитаем средний возраст и заменим им пропущенные значения"
   ]
  },
  {
   "cell_type": "code",
   "execution_count": null,
   "metadata": {
    "colab": {
     "base_uri": "https://localhost:8080/",
     "height": 34
    },
    "colab_type": "code",
    "id": "jfrFw7kvgNQl",
    "outputId": "06260092-b0dd-44e1-bd7a-c752cf8f7c69"
   },
   "outputs": [],
   "source": [
    "df_filtered['Age'].mean()"
   ]
  },
  {
   "cell_type": "code",
   "execution_count": null,
   "metadata": {
    "colab": {
     "base_uri": "https://localhost:8080/",
     "height": 119
    },
    "colab_type": "code",
    "id": "NRrrlu-2ge8v",
    "outputId": "887ffa7c-e4f2-4ce2-c06d-e524fd9f7a99"
   },
   "outputs": [],
   "source": [
    "df_filtered['Age_rep'] = df_filtered['Age'].fillna(29.69)"
   ]
  },
  {
   "cell_type": "code",
   "execution_count": null,
   "metadata": {
    "colab": {
     "base_uri": "https://localhost:8080/",
     "height": 238
    },
    "colab_type": "code",
    "id": "gRgtaLUegkeH",
    "outputId": "6082d6f1-229e-4fab-f1fc-f21d0d384b58"
   },
   "outputs": [],
   "source": [
    "df_filtered.info()"
   ]
  },
  {
   "cell_type": "markdown",
   "metadata": {
    "colab_type": "text",
    "id": "PQBWvP2NhLe3"
   },
   "source": [
    "## Аналогично заменим неизвестный пункт назначения на самый вероятный"
   ]
  },
  {
   "cell_type": "code",
   "execution_count": null,
   "metadata": {
    "colab": {},
    "colab_type": "code",
    "id": "A0oRI4S1g4ab"
   },
   "outputs": [],
   "source": [
    "## Практика"
   ]
  },
  {
   "cell_type": "code",
   "execution_count": null,
   "metadata": {
    "colab": {},
    "colab_type": "code",
    "id": "-_AYqlB8hWeQ"
   },
   "outputs": [],
   "source": []
  },
  {
   "cell_type": "code",
   "execution_count": null,
   "metadata": {
    "colab": {},
    "colab_type": "code",
    "id": "_f7tWzT6hchr"
   },
   "outputs": [],
   "source": []
  },
  {
   "cell_type": "markdown",
   "metadata": {
    "colab_type": "text",
    "id": "4-ahHHJVh0wC"
   },
   "source": [
    "## Разберемся с полом. Добавим столбец is_male"
   ]
  },
  {
   "cell_type": "code",
   "execution_count": null,
   "metadata": {
    "colab": {
     "base_uri": "https://localhost:8080/",
     "height": 1000
    },
    "colab_type": "code",
    "id": "X1T3VIb-h4Og",
    "outputId": "0d68a282-a04f-4723-9dc6-a0ae78af3ac6"
   },
   "outputs": [],
   "source": [
    "df_filtered['Sex'] == 'male'"
   ]
  },
  {
   "cell_type": "code",
   "execution_count": null,
   "metadata": {
    "colab": {},
    "colab_type": "code",
    "id": "wDaqmHQ-iD1j"
   },
   "outputs": [],
   "source": [
    "df_filtered['is_male'] = df_filtered['Sex'] == 'male'"
   ]
  },
  {
   "cell_type": "code",
   "execution_count": null,
   "metadata": {
    "colab": {
     "base_uri": "https://localhost:8080/",
     "height": 204
    },
    "colab_type": "code",
    "id": "TCvaQKu1iHp_",
    "outputId": "f2f08480-0a70-46e5-8c4a-40721c85f050"
   },
   "outputs": [],
   "source": [
    "df_filtered.head()"
   ]
  },
  {
   "cell_type": "markdown",
   "metadata": {
    "colab_type": "text",
    "id": "e0rAddU9hgVc"
   },
   "source": [
    "## Профильтруем"
   ]
  },
  {
   "cell_type": "code",
   "execution_count": null,
   "metadata": {
    "colab": {
     "base_uri": "https://localhost:8080/",
     "height": 68
    },
    "colab_type": "code",
    "id": "uWHuGVUkho2j",
    "outputId": "6b1b71f9-2fc6-4262-999e-3929437a581f"
   },
   "outputs": [],
   "source": [
    "df_filtered.columns"
   ]
  },
  {
   "cell_type": "code",
   "execution_count": null,
   "metadata": {
    "colab": {},
    "colab_type": "code",
    "id": "xgvqPDIWheZs"
   },
   "outputs": [],
   "source": [
    "df_filtered = df_filtered[['PassengerId', 'Survived', 'Pclass', 'Fare', 'Age_rep', 'Embarked_rep', 'is_male']]"
   ]
  },
  {
   "cell_type": "code",
   "execution_count": null,
   "metadata": {
    "colab": {
     "base_uri": "https://localhost:8080/",
     "height": 204
    },
    "colab_type": "code",
    "id": "zn5l-mLAhvQZ",
    "outputId": "6f368ba2-cca1-4c37-b494-f04dde279bed"
   },
   "outputs": [],
   "source": [
    "df_filtered.head()"
   ]
  },
  {
   "cell_type": "markdown",
   "metadata": {
    "colab_type": "text",
    "id": "ssHZv5yZiQKx"
   },
   "source": [
    "## Осталось заменить Embarked_rep на цифры. Используем принцип one_hot"
   ]
  },
  {
   "cell_type": "code",
   "execution_count": null,
   "metadata": {
    "colab": {},
    "colab_type": "code",
    "id": "78IUwO_Mhw9_"
   },
   "outputs": [],
   "source": [
    "df_filtered = pd.get_dummies(df_filtered, ['Embarked_rep'])"
   ]
  },
  {
   "cell_type": "code",
   "execution_count": null,
   "metadata": {
    "colab": {
     "base_uri": "https://localhost:8080/",
     "height": 204
    },
    "colab_type": "code",
    "id": "3d09Nq4siZsV",
    "outputId": "6cf804f6-938d-4078-98be-c4155d3f75ca"
   },
   "outputs": [],
   "source": [
    "df_filtered.head()"
   ]
  },
  {
   "cell_type": "markdown",
   "metadata": {
    "colab_type": "text",
    "id": "dTDR71-rilfX"
   },
   "source": [
    "# Переходим к машинному обучению :-)"
   ]
  },
  {
   "cell_type": "code",
   "execution_count": null,
   "metadata": {
    "colab": {},
    "colab_type": "code",
    "id": "z9QGNpPgihBR"
   },
   "outputs": [],
   "source": [
    "from sklearn.model_selection import train_test_split\n",
    "from sklearn.preprocessing import StandardScaler\n",
    "\n",
    "from sklearn.linear_model import LogisticRegression\n",
    "from sklearn.tree import DecisionTreeClassifier\n",
    "from sklearn.svm import  SVC"
   ]
  },
  {
   "cell_type": "code",
   "execution_count": null,
   "metadata": {
    "colab": {
     "base_uri": "https://localhost:8080/",
     "height": 68
    },
    "colab_type": "code",
    "id": "WGSx42GOi1vz",
    "outputId": "7d4922e7-3712-4176-be8e-b7b2ad9c6345"
   },
   "outputs": [],
   "source": [
    "df_filtered.columns"
   ]
  },
  {
   "cell_type": "code",
   "execution_count": null,
   "metadata": {
    "colab": {},
    "colab_type": "code",
    "id": "n1LefNioi3nB"
   },
   "outputs": [],
   "source": [
    "# Формируем признаки и целевую переменную\n",
    "X, y = df_filtered[['PassengerId', 'Pclass', 'Fare', 'Age_rep', 'is_male', 'Embarked_rep_C', 'Embarked_rep_Q', 'Embarked_rep_S']], df_filtered['Survived']"
   ]
  },
  {
   "cell_type": "code",
   "execution_count": null,
   "metadata": {
    "colab": {},
    "colab_type": "code",
    "id": "8vYNbv13i-TL"
   },
   "outputs": [],
   "source": [
    "# Разделяем данные на данные для обучения и проверки"
   ]
  },
  {
   "cell_type": "code",
   "execution_count": null,
   "metadata": {
    "colab": {},
    "colab_type": "code",
    "id": "i811BR2fjEg2"
   },
   "outputs": [],
   "source": [
    "X_train, X_test, y_train, y_test = train_test_split(X, y, test_size=0.2)"
   ]
  },
  {
   "cell_type": "code",
   "execution_count": null,
   "metadata": {
    "colab": {
     "base_uri": "https://localhost:8080/",
     "height": 204
    },
    "colab_type": "code",
    "id": "dq9P5tc7jP45",
    "outputId": "46490560-56c7-4eaa-8bea-48c3f2eaee1f"
   },
   "outputs": [],
   "source": [
    "X_train.head()"
   ]
  },
  {
   "cell_type": "code",
   "execution_count": null,
   "metadata": {
    "colab": {
     "base_uri": "https://localhost:8080/",
     "height": 119
    },
    "colab_type": "code",
    "id": "hdSbqdcBjTjv",
    "outputId": "41d6e8da-7ff1-439c-83ea-ab7677e28145"
   },
   "outputs": [],
   "source": [
    "y_train.head()"
   ]
  },
  {
   "cell_type": "code",
   "execution_count": null,
   "metadata": {
    "colab": {},
    "colab_type": "code",
    "id": "uxKhaakDjJxb"
   },
   "outputs": [],
   "source": [
    "# Приводим данные к одному масштабу\n",
    "sc = StandardScaler()\n",
    "X_train = sc.fit_transform(X_train)\n",
    "X_test = sc.transform(X_test)"
   ]
  },
  {
   "cell_type": "code",
   "execution_count": null,
   "metadata": {
    "colab": {
     "base_uri": "https://localhost:8080/",
     "height": 238
    },
    "colab_type": "code",
    "id": "XZYD_iF3jjCH",
    "outputId": "08a57033-937e-4074-8316-024424392300"
   },
   "outputs": [],
   "source": [
    "X_train"
   ]
  },
  {
   "cell_type": "code",
   "execution_count": null,
   "metadata": {
    "colab": {},
    "colab_type": "code",
    "id": "6xf4nxxhjYf2"
   },
   "outputs": [],
   "source": [
    "X_train = pd.DataFrame(X_train, columns=X.columns)\n",
    "X_test = pd.DataFrame(X_test, columns=X.columns)"
   ]
  },
  {
   "cell_type": "code",
   "execution_count": null,
   "metadata": {
    "colab": {
     "base_uri": "https://localhost:8080/",
     "height": 204
    },
    "colab_type": "code",
    "id": "tVWTQ7P7jZJp",
    "outputId": "726d0484-94c4-4a63-f3a7-63566125390a"
   },
   "outputs": [],
   "source": [
    "X_train.head()"
   ]
  },
  {
   "cell_type": "markdown",
   "metadata": {
    "colab_type": "text",
    "id": "I6ETfk-gjoBp"
   },
   "source": [
    "## Обучаем наши модели"
   ]
  },
  {
   "cell_type": "code",
   "execution_count": null,
   "metadata": {
    "colab": {},
    "colab_type": "code",
    "id": "KkdcWaJrjlaj"
   },
   "outputs": [],
   "source": [
    "logistic = LogisticRegression()\n"
   ]
  },
  {
   "cell_type": "code",
   "execution_count": null,
   "metadata": {
    "colab": {
     "base_uri": "https://localhost:8080/",
     "height": 156
    },
    "colab_type": "code",
    "id": "PBcicU_dj3IY",
    "outputId": "fcd5ea25-f083-4a3e-c6be-5da9364beacc"
   },
   "outputs": [],
   "source": [
    "logistic.fit(X_train, y_train)"
   ]
  },
  {
   "cell_type": "code",
   "execution_count": null,
   "metadata": {
    "colab": {
     "base_uri": "https://localhost:8080/",
     "height": 119
    },
    "colab_type": "code",
    "id": "T-ryLUA8j7Nj",
    "outputId": "ba7125f8-aff8-415c-c7e4-532f04356702"
   },
   "outputs": [],
   "source": [
    "tree = DecisionTreeClassifier(criterion='gini')\n",
    "tree.fit(X_train, y_train)"
   ]
  },
  {
   "cell_type": "code",
   "execution_count": null,
   "metadata": {
    "colab": {},
    "colab_type": "code",
    "id": "Dihwyi8wj-o2"
   },
   "outputs": [],
   "source": [
    "## Обучите модель SVC\n"
   ]
  },
  {
   "cell_type": "code",
   "execution_count": null,
   "metadata": {
    "colab": {},
    "colab_type": "code",
    "id": "T7wvsjE1t-1Q"
   },
   "outputs": [],
   "source": []
  },
  {
   "cell_type": "markdown",
   "metadata": {
    "colab_type": "text",
    "id": "XUwnQg7_kCgf"
   },
   "source": [
    "## Оценим качество"
   ]
  },
  {
   "cell_type": "code",
   "execution_count": null,
   "metadata": {
    "colab": {},
    "colab_type": "code",
    "id": "tOz7RCSRkAdx"
   },
   "outputs": [],
   "source": [
    "from sklearn.metrics import accuracy_score, precision_score, recall_score, f1_score"
   ]
  },
  {
   "cell_type": "code",
   "execution_count": null,
   "metadata": {
    "colab": {
     "base_uri": "https://localhost:8080/",
     "height": 34
    },
    "colab_type": "code",
    "id": "5NGOxOR6kIL7",
    "outputId": "cee0bf3b-04c1-421b-da3b-4c586c6b3880"
   },
   "outputs": [],
   "source": [
    "accuracy_score(y_test, logistic.predict(X_test))"
   ]
  },
  {
   "cell_type": "code",
   "execution_count": null,
   "metadata": {
    "colab": {
     "base_uri": "https://localhost:8080/",
     "height": 34
    },
    "colab_type": "code",
    "id": "phSuOcKMkS4p",
    "outputId": "388fe613-fdae-4375-853e-52f4bbbf3903"
   },
   "outputs": [],
   "source": [
    "precision_score(y_test, logistic.predict(X_test))"
   ]
  },
  {
   "cell_type": "code",
   "execution_count": null,
   "metadata": {
    "colab": {
     "base_uri": "https://localhost:8080/",
     "height": 34
    },
    "colab_type": "code",
    "id": "4l3v9XgCkV4V",
    "outputId": "0a7b2c5c-0ca9-40c9-830c-020648b04b84"
   },
   "outputs": [],
   "source": [
    "recall_score(y_test, logistic.predict(X_test))"
   ]
  },
  {
   "cell_type": "code",
   "execution_count": null,
   "metadata": {
    "colab": {
     "base_uri": "https://localhost:8080/",
     "height": 34
    },
    "colab_type": "code",
    "id": "KFJxDfswkYTO",
    "outputId": "d5235e01-d76b-4185-8a34-79cca24f0644"
   },
   "outputs": [],
   "source": [
    "f1_score(y_test, logistic.predict(X_test))"
   ]
  },
  {
   "cell_type": "code",
   "execution_count": null,
   "metadata": {
    "colab": {
     "base_uri": "https://localhost:8080/",
     "height": 34
    },
    "colab_type": "code",
    "id": "Yt7K1WtCkZ_9",
    "outputId": "bdaa70f7-9a13-47dc-fd89-fc2be09c66c6"
   },
   "outputs": [],
   "source": [
    "accuracy_score(y_test, tree.predict(X_test))"
   ]
  },
  {
   "cell_type": "code",
   "execution_count": null,
   "metadata": {
    "colab": {
     "base_uri": "https://localhost:8080/",
     "height": 34
    },
    "colab_type": "code",
    "id": "8rxfV5bykcqq",
    "outputId": "21e86bcd-9fbe-4f77-9c0a-0f022880c785"
   },
   "outputs": [],
   "source": [
    "precision_score(y_test, tree.predict(X_test))"
   ]
  },
  {
   "cell_type": "code",
   "execution_count": null,
   "metadata": {
    "colab": {
     "base_uri": "https://localhost:8080/",
     "height": 34
    },
    "colab_type": "code",
    "id": "UCvei0w6kdVx",
    "outputId": "bee80774-176f-4814-c0d3-810539df7ad7"
   },
   "outputs": [],
   "source": [
    "recall_score(y_test, tree.predict(X_test))"
   ]
  },
  {
   "cell_type": "code",
   "execution_count": null,
   "metadata": {
    "colab": {
     "base_uri": "https://localhost:8080/",
     "height": 34
    },
    "colab_type": "code",
    "id": "Kb2vEh9ZkeNJ",
    "outputId": "60ac2943-58f3-46b2-cce5-ac83442d55dd"
   },
   "outputs": [],
   "source": [
    "f1_score(y_test, tree.predict(X_test))"
   ]
  },
  {
   "cell_type": "code",
   "execution_count": null,
   "metadata": {
    "colab": {},
    "colab_type": "code",
    "id": "Kp766Qmvke3x"
   },
   "outputs": [],
   "source": [
    "## Посчитайте метрики для SVC"
   ]
  },
  {
   "cell_type": "code",
   "execution_count": null,
   "metadata": {
    "colab": {},
    "colab_type": "code",
    "id": "gvauiwALkhsb"
   },
   "outputs": [],
   "source": []
  },
  {
   "cell_type": "code",
   "execution_count": null,
   "metadata": {
    "colab": {},
    "colab_type": "code",
    "id": "yjkgm6ubkiiC"
   },
   "outputs": [],
   "source": []
  },
  {
   "cell_type": "code",
   "execution_count": null,
   "metadata": {
    "colab": {},
    "colab_type": "code",
    "id": "gVghJwOakjcS"
   },
   "outputs": [],
   "source": []
  },
  {
   "cell_type": "code",
   "execution_count": null,
   "metadata": {
    "colab": {},
    "colab_type": "code",
    "id": "xOR4eSdtkkcP"
   },
   "outputs": [],
   "source": []
  }
 ],
 "metadata": {
  "colab": {
   "collapsed_sections": [],
   "name": "Titanik_bigdata2.ipynb",
   "provenance": [],
   "version": "0.3.2"
  },
  "kernelspec": {
   "display_name": "Python 3",
   "language": "python",
   "name": "python3"
  },
  "language_info": {
   "codemirror_mode": {
    "name": "ipython",
    "version": 3
   },
   "file_extension": ".py",
   "mimetype": "text/x-python",
   "name": "python",
   "nbconvert_exporter": "python",
   "pygments_lexer": "ipython3",
   "version": "3.7.4"
  }
 },
 "nbformat": 4,
 "nbformat_minor": 1
}
